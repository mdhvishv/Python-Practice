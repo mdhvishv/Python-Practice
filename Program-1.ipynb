{
 "cells": [
  {
   "cell_type": "code",
   "execution_count": null,
   "metadata": {},
   "outputs": [],
   "source": [
    "###### to input 3 numbers and print their sum\n",
    "num1 = int(input(\"Enter number 1\"))\n",
    "num2 = int(input(\"Enter number 2\"))\n",
    "num3 = int(input(\"Enter number 3\"))\n",
    "Sum = num1 + num2 + num3\n",
    "print(\"Three numbers are :\",num1,num2,num3)\n",
    "print(\"Sum is :\",Sum)\n"
   ]
  },
  {
   "cell_type": "code",
   "execution_count": null,
   "metadata": {},
   "outputs": [],
   "source": [
    "#to calculate bmi = kg/m^2\n",
    "weight_in_kg = float(input(\"enter weight in kg :\"))\n",
    "height_in_meter = float(input(\"enter height in meter :\"))\n",
    "bmi= weight_in_kg/(height_in_meter*height_in_meter)\n",
    "print(\"BMI=\",bmi)\n",
    "if bmi>=30:\n",
    "    print(\"YOU ARE OVER WEIGHT\")\n",
    "else:\n",
    "    print(\"YOUR WEIGHT IS LESS THEN OBISITY\")\n",
    "    "
   ]
  },
  {
   "cell_type": "code",
   "execution_count": 3,
   "metadata": {},
   "outputs": [
    {
     "name": "stdout",
     "output_type": "stream",
     "text": [
      "Enter length of rectangle :12\n",
      "Enter breadth of rectangle :54\n",
      "Rectangle specifications\n",
      "Length = 12.0Breadth = 54.0\n",
      "Area= 648.0\n"
     ]
    }
   ],
   "source": [
    "#to input length and breadth of a rectangle and calculate its area \n",
    "length = float(input(\"Enter length of rectangle :\"))\n",
    "breadth = float(input(\"Enter breadth of rectangle :\"))\n",
    "area = breadth*length\n",
    "\n",
    "print(\"Rectangle specifications\")\n",
    "print(\"Length =\",length, end ='')\n",
    "print(\"Breadth =\",breadth)\n",
    "print(\"Area=\",area)"
   ]
  },
  {
   "cell_type": "code",
   "execution_count": null,
   "metadata": {},
   "outputs": [
    {
     "name": "stdout",
     "output_type": "stream",
     "text": [
      "If u want to calculate celsius to fahrenheit type 1 /if u want to calculate fahrenheit to celsius type 20\n"
     ]
    }
   ],
   "source": [
    "#CELSIUS AND FAHRENHEIT CALCULATOR\n",
    "\n",
    "\n",
    "ask=int(input(\"If u want to calculate celsius to fahrenheit type 1 /if u want to calculate fahrenheit to celsius type 2\"))\n",
    "\n",
    "if ask <=1:\n",
    "    celsius =float(input(\"Enter the temperature in celsius :\"))\n",
    "    fahrenheit = (celsius*9/5)+32\n",
    "    print (\"Fahrenheit :\",fahrenheit)\n",
    "else :\n",
    "    fahrenheit= float(input(\"Enter the temperature in fahrenheit :\"))\n",
    "    celsius= (fahrenheit-32)*5/9\n",
    "    print(\"Celsius :\",celsius)\n",
    "\n",
    "    \n",
    "    "
   ]
  },
  {
   "cell_type": "code",
   "execution_count": 6,
   "metadata": {},
   "outputs": [
    {
     "name": "stdout",
     "output_type": "stream",
     "text": [
      "A man tells his Doctor\", \"Doc help me. I'm addicted to Twitter!\n",
      "PRESS ENTER\n",
      "Doctor replies ,\"Sorry, I don't follow you ....\"\n"
     ]
    }
   ],
   "source": [
    "# display a joke but display the punchline only when press enter\n",
    "print ('''A man tells his Doctor\", \"Doc help me. I'm addicted to Twitter!''')\n",
    "enter=input(\"PRESS ENTER\")\n",
    "print('''Doctor replies ,\"Sorry, I don't follow you ....\"''')"
   ]
  },
  {
   "cell_type": "code",
   "execution_count": null,
   "metadata": {},
   "outputs": [],
   "source": [
    "\n"
   ]
  },
  {
   "cell_type": "code",
   "execution_count": null,
   "metadata": {},
   "outputs": [],
   "source": [
    "#so as to print output as 5@10@9\n",
    "num = int(input(\"Enter the number : \"))\n",
    "print(num)\n",
    "input()\n",
    "print(num*2)\n",
    "input()\n",
    "print((num*2)-1)\n",
    "print(num,\"@\",num*2,\"@\",(num*2)-1)"
   ]
  },
  {
   "cell_type": "code",
   "execution_count": 3,
   "metadata": {},
   "outputs": [
    {
     "name": "stdout",
     "output_type": "stream",
     "text": [
      "Enter a number 3\n",
      "3 6 9 12 15\n"
     ]
    }
   ],
   "source": [
    "#maximum three lines of code and that assigns first 5 multiples of a number to 5 variables and then print them.\n",
    "a = int(input(\"Enter a number \"))\n",
    "b,c,d,e=a*2,a*3,a*4,a*5\n",
    "print(a,b,c,d,e)"
   ]
  },
  {
   "cell_type": "code",
   "execution_count": 5,
   "metadata": {},
   "outputs": [
    {
     "name": "stdout",
     "output_type": "stream",
     "text": [
      "Enter the radius of circle :23\n",
      "Area of circle = 1661.0600000000002 meter square\n"
     ]
    }
   ],
   "source": [
    "#to accepts radius of a circle and prints its area\n",
    "radius = float(input(\"Enter the radius of circle :\"))\n",
    "print(\"Area of circle =\",3.14*(radius**2),\"meter square\")"
   ]
  },
  {
   "cell_type": "code",
   "execution_count": null,
   "metadata": {},
   "outputs": [],
   "source": [
    "#accepts marks in 5 subject and return its average marks\n",
    "a=float(input(\"Enter marks of first subject:\"))\n",
    "b=float(input(\"Enter marks of 2nd subject:\"))\n",
    "c=float(input(\"Enter marks of 3rd subject:\"))\n",
    "d=float(input(\"Enter marks of 4th subject:\"))\n",
    "e=float(input(\"Enter marks of 5th subject:\"))\n",
    "print((a+b+c+d+e)/5)"
   ]
  },
  {
   "cell_type": "code",
   "execution_count": 2,
   "metadata": {},
   "outputs": [
    {
     "name": "stdout",
     "output_type": "stream",
     "text": [
      "Enter Your Height in Centimeters :192\n",
      "Your Height in feet's= 6.0 feets 3.0 inch\n"
     ]
    }
   ],
   "source": [
    "#height in cm to inch to feet\n",
    "height = int(input(\"Enter Your Height in Centimeters :\"))\n",
    "height = height/2.54\n",
    "feet = (height//12)\n",
    "print(\"Your Height in feet's=\",feet,\"feets\",(height%12)//1,\"inch\")\n"
   ]
  },
  {
   "cell_type": "code",
   "execution_count": 3,
   "metadata": {},
   "outputs": [
    {
     "name": "stdout",
     "output_type": "stream",
     "text": [
      "Enter the number :4\n",
      "4.0 16.0 64.0 256.0\n"
     ]
    }
   ],
   "source": [
    "#to read a number n and print n^2,n^3 and n^4\n",
    "n = float(input(\"Enter the number :\"))\n",
    "o,p,q=n**2,n**3,n**4\n",
    "print(n,o,p,q)\n"
   ]
  },
  {
   "cell_type": "code",
   "execution_count": 4,
   "metadata": {},
   "outputs": [
    {
     "name": "stdout",
     "output_type": "stream",
     "text": [
      "Enter the height of triangle :13\n",
      "Enter the base length of triangle:12\n",
      "Area of triangle= 78.0\n"
     ]
    }
   ],
   "source": [
    "#to find area of triangle \n",
    "height = float(input(\"Enter the height of triangle :\"))\n",
    "base = float(input(\"Enter the base length of triangle:\"))\n",
    "print(\"Area of triangle=\",1/2*(base*height),\"meter spuare\")"
   ]
  },
  {
   "cell_type": "code",
   "execution_count": 8,
   "metadata": {},
   "outputs": [
    {
     "name": "stdout",
     "output_type": "stream",
     "text": [
      "Enter the principal interest :12\n",
      "Enter the rate :12\n",
      "Enter the time for the interest :12\n",
      "Enter the the number of times that interest is compounded per unit time12\n",
      "Simple Interest= 17.28\n",
      "Compound Interest= 2.6760894238236748e+44\n"
     ]
    }
   ],
   "source": [
    "#to compute simple interest and compound interest.\n",
    "principal=float(input(\"Enter the principal interest :\"))\n",
    "rate=float(input(\"Enter the rate :\"))\n",
    "time=float(input(\"Enter the time for the interest :\"))\n",
    "n=float(input(\"Enter the the number of times that interest is compounded per unit time\"))\n",
    "simple_interest = (principal*rate*time)/100\n",
    "r=1+(rate/n)\n",
    "nt=n*time\n",
    "s=r**nt\n",
    "compound_interest= principal*s\n",
    "compound_interest=compound_interest//1\n",
    "print(\"Simple Interest=\",simple_interest)\n",
    "print(\"Compound Interest=\",compound_interest)\n"
   ]
  },
  {
   "cell_type": "code",
   "execution_count": 9,
   "metadata": {},
   "outputs": [
    {
     "name": "stdout",
     "output_type": "stream",
     "text": [
      "Enter a number:1\n",
      "1 2 3 4 5\n"
     ]
    }
   ],
   "source": [
    "#to input a number and print its first five multiples\n",
    "x=int(input(\"Enter a number:\"))\n",
    "print(x,x*2,x*3,x*4,x*5)"
   ]
  },
  {
   "cell_type": "code",
   "execution_count": 16,
   "metadata": {},
   "outputs": [
    {
     "name": "stdout",
     "output_type": "stream",
     "text": [
      "Enter the name of Student -MADHAV\n",
      "Enter the class of student -XII-A\n",
      "Enter the age of the student18\n",
      "MADHAV XII-A 18\n",
      "\n",
      "\n",
      "MADHAV\n",
      "XII-A\n",
      "18\n"
     ]
    }
   ],
   "source": [
    "#to read the name,class, age of a student \n",
    "name=input(\"Enter the name of Student -\")\n",
    "Class =input(\"Enter the class of student -\")\n",
    "age=int(input(\"Enter the age of the student\"))\n",
    "print(name,Class,age)\n",
    "print()\n",
    "print()\n",
    "print(name)\n",
    "print(Class)\n",
    "print(age)\n",
    "\n"
   ]
  },
  {
   "cell_type": "code",
   "execution_count": 17,
   "metadata": {},
   "outputs": [
    {
     "name": "stdout",
     "output_type": "stream",
     "text": [
      "Enter a number(range in 1-7)3\n",
      "345"
     ]
    }
   ],
   "source": [
    "#to input a single digit(n)\n",
    "n=int(input(\"Enter a number(range in 1-7)\"))\n",
    "print(n,end=\"\")\n",
    "print(n+1,end=\"\")\n",
    "print(n+2,end=\"\")"
   ]
  },
  {
   "cell_type": "code",
   "execution_count": 18,
   "metadata": {},
   "outputs": [
    {
     "name": "stdout",
     "output_type": "stream",
     "text": [
      "Enter value of 1st number-1\n",
      "Enter value of 2nd number -2\n",
      "Enter value of 3rd number -3\n",
      "1 2 3\n",
      "3 5 3\n"
     ]
    }
   ],
   "source": [
    "#to read the three number in three variables and swap first two variables with the sums\n",
    "a=int(input(\"Enter value of 1st number-\"))\n",
    "b=int (input(\"Enter value of 2nd number -\"))\n",
    "c=int(input(\"Enter value of 3rd number -\"))\n",
    "print(a,b,c)\n",
    "a+=b\n",
    "b+=c\n",
    "print(a,b,c)"
   ]
  },
  {
   "cell_type": "code",
   "execution_count": 1,
   "metadata": {},
   "outputs": [
    {
     "name": "stdout",
     "output_type": "stream",
     "text": [
      "Enter the base/length of parallelogram :24\n",
      "Enter the width of parallelogram :24\n",
      "Enter the height of parallelogram : 24\n",
      "The area of parallelogram = 576.0\n",
      "The perimeter of parallelogram= 96.0\n"
     ]
    }
   ],
   "source": [
    "#to read base/length,width,height of a parallelogram and calculate its area and perimeter\n",
    "l=float(input(\"Enter the base/length of parallelogram :\"))\n",
    "w=float(input(\"Enter the width of parallelogram :\"))\n",
    "h= float(input(\"Enter the height of parallelogram : \"))\n",
    "area = l*h\n",
    "perimeter=2*l+2*w\n",
    "print(\"The area of parallelogram =\", area,\"unit length square\")\n",
    "print(\"The perimeter of parallelogram=\",perimeter, \"unit length\")"
   ]
  },
  {
   "cell_type": "code",
   "execution_count": 4,
   "metadata": {},
   "outputs": [
    {
     "name": "stdout",
     "output_type": "stream",
     "text": [
      "3 chosen student are=\n",
      "35 36 25\n"
     ]
    }
   ],
   "source": [
    "#to choose the 3 student random from 100 student in a school roll number is 1-100\n",
    "import random\n",
    "student1 = random.randint(1,100)\n",
    "student2 = random.randint(1,100)\n",
    "student3 = random.randint(1,100)\n",
    "print(\"3 chosen student are=\")\n",
    "print(student1,student2,student3)"
   ]
  },
  {
   "cell_type": "code",
   "execution_count": null,
   "metadata": {},
   "outputs": [],
   "source": [
    "#to obtain principal amount , rate of interest  and time from user and compute simple interest \n",
    "p = float(input(\"Enter the principal amount :\"))\n",
    "r = float(input(\"Enter the rate of interest :\"))\n",
    "t= float (input (\"Enter the time of interest :\"))\n",
    "print(\"Simple Interest =\",p*r*t/100)"
   ]
  },
  {
   "cell_type": "code",
   "execution_count": 1,
   "metadata": {},
   "outputs": [
    {
     "name": "stdout",
     "output_type": "stream",
     "text": [
      "Enter the temperature of Monday :43\n",
      "Enter the temperature of Tuesday :32\n",
      "Enter the temperature of Wednesday :32\n",
      "Enter the temperature of Thursday :32\n",
      "Enter the temperature of Friday :42\n",
      "Enter the temperature of Saturday :36\n",
      "Enter the temperature of Sunday :35\n",
      "Average temperatur of week= 36.0\n"
     ]
    }
   ],
   "source": [
    "#to obtain tempearature of 7 days(monday,tuesday,wednesday,thursday,friday,saturday,sunday) and then display average temperature\n",
    "mon=float(input(\"Enter the temperature of Monday (degree celcius):\"))\n",
    "tue=float(input(\"Enter the temperature of Tuesday (degree celcius) :\"))\n",
    "wed=float(input(\"Enter the temperature of Wednesday (degree celcius) :\"))\n",
    "thu=float(input(\"Enter the temperature of Thursday (degree celcius):\"))\n",
    "fri=float(input(\"Enter the temperature of Friday (degree celcius):\"))\n",
    "sat=float(input(\"Enter the temperature of Saturday (degree celcius):\"))\n",
    "sun=float(input(\"Enter the temperature of Sunday (degree celcius):\"))\n",
    "import statistics\n",
    "s=(mon,tue,wed,thu,fri,sat,sun)\n",
    "print(\"Average temperature of week=\",statistics.mean(s),\"(degree celcius)\")"
   ]
  },
  {
   "cell_type": "code",
   "execution_count": 7,
   "metadata": {},
   "outputs": [
    {
     "name": "stdout",
     "output_type": "stream",
     "text": [
      "Enter the value of x :12\n",
      "Enter the value of y :3\n",
      "Enter the value of z :5\n",
      "83088.84955592154\n"
     ]
    }
   ],
   "source": [
    "#to obtain x,y,z from user and calculate expression \n",
    "x=float(input(\"Enter the value of x :\"))\n",
    "y=float(input(\"Enter the value of y :\"))\n",
    "z=float(input(\"Enter the value of z :\"))\n",
    "import math\n",
    "a = 4*math.pow(x,4)+3*math.pow(y,3)+9*z+6*math.pi\n",
    "print(a)"
   ]
  },
  {
   "cell_type": "code",
   "execution_count": 8,
   "metadata": {},
   "outputs": [
    {
     "name": "stdout",
     "output_type": "stream",
     "text": [
      "Enter the seconds to convert :200\n",
      "3 mins 20 secs\n"
     ]
    }
   ],
   "source": [
    "#reads a number of seconds and prints it in form:min and secs\n",
    "sec=int(input(\"Enter the seconds to convert :\"))\n",
    "print(sec//60,\"mins\",sec%60,\"secs\")"
   ]
  },
  {
   "cell_type": "code",
   "execution_count": 10,
   "metadata": {},
   "outputs": [
    {
     "name": "stdout",
     "output_type": "stream",
     "text": [
      "ENTER THE YEAR :2000\n",
      "Its a leap year\n"
     ]
    }
   ],
   "source": [
    "#to take a year as input and check its leap year or not\n",
    "year=int(input(\"ENTER THE YEAR :\"))\n",
    "a=year%4\n",
    "b=year%400\n",
    "if a==0:\n",
    "    if b==0:\n",
    "        print(\"Its a leap year\")\n",
    "    else:\n",
    "        print(\"Its not a leap year\")\n",
    "else:\n",
    "    print(\"Its not a leap year\")\n",
    "    "
   ]
  },
  {
   "cell_type": "code",
   "execution_count": 11,
   "metadata": {},
   "outputs": [
    {
     "name": "stdout",
     "output_type": "stream",
     "text": [
      "Enter the first number :12\n",
      "Enter the second number :3\n",
      "first number is divisible by second number  \n"
     ]
    }
   ],
   "source": [
    "#to take two numbers and print if the first number is fully divisible by second number or not\n",
    "num1=int(input(\"Enter the first number :\"))\n",
    "num2=int(input(\"Enter the second number :\"))\n",
    "if num1%num2==0:\n",
    "    print(\"First number is divisible by second number  \")\n",
    "else:\n",
    "    print(\"First number is not divisible by second number \")"
   ]
  },
  {
   "cell_type": "code",
   "execution_count": null,
   "metadata": {},
   "outputs": [],
   "source": [
    "#to take 2-digit number and then print the reversed number. That is, if the input given is 25 the program should print 52\n",
    "num= int(input(\"Enter a 2 digit number :\"))\n",
    "y = num%10*10+num//10\n",
    "print (y)"
   ]
  },
  {
   "cell_type": "code",
   "execution_count": 18,
   "metadata": {
    "collapsed": true
   },
   "outputs": [
    {
     "name": "stdout",
     "output_type": "stream",
     "text": [
      "Enter three digit number :253\n",
      "352\n"
     ]
    }
   ],
   "source": [
    "#to take 3-digit number and then print the reversed number. That is, if the input given is 254 the program should print 452\n",
    "x=int(input(\"Enter three digit number :\"))\n",
    "y=x%10*100+(x//10)%10*10+(x//10)//10\n",
    "print(y)\n"
   ]
  },
  {
   "cell_type": "code",
   "execution_count": 1,
   "metadata": {},
   "outputs": [
    {
     "name": "stdout",
     "output_type": "stream",
     "text": [
      "Enter an integer :6\n",
      "It's a Even number \n"
     ]
    }
   ],
   "source": [
    "#takes a number and checks whether the given number is odd or even\n",
    "num = int(input (\"Enter an integer :\"))\n",
    "if num%2==0:\n",
    "    print(\"It's a Even number \")\n",
    "else:\n",
    "    print (\"It's a odd NUmber \")\n"
   ]
  },
  {
   "cell_type": "code",
   "execution_count": 2,
   "metadata": {
    "scrolled": true
   },
   "outputs": [
    {
     "name": "stdout",
     "output_type": "stream",
     "text": [
      "Enter the first number :2\n",
      "Enter the second number :3\n",
      "Enter the third number :4\n",
      "The the largest number is : 4.0\n"
     ]
    }
   ],
   "source": [
    "#to accept three integers and print the largest of the three. only using with if statement\n",
    "x= float(input(\"Enter the first number :\"))\n",
    "y= float(input(\"Enter the second number :\"))\n",
    "z= float(input(\"Enter the third number :\"))\n",
    "max=x\n",
    "if y>max:\n",
    "    max=y\n",
    "if z>max:\n",
    "    max=z\n",
    "print(\"The the largest number is :\",max)"
   ]
  },
  {
   "cell_type": "code",
   "execution_count": 10,
   "metadata": {
    "scrolled": true
   },
   "outputs": [
    {
     "name": "stdout",
     "output_type": "stream",
     "text": [
      "Enter the first number :2\n",
      "Enter the second number :2\n",
      "Enter the third number :2\n",
      "Two sum's are = 6.0 and 0\n"
     ]
    }
   ],
   "source": [
    "#takes input of three number and calculate two sum a per the discription\n",
    "num1=float(input(\"Enter the first number :\"))\n",
    "num2=float(input(\"Enter the second number :\"))\n",
    "num3=float(input(\"Enter the third number :\"))\n",
    "sum1=num1+num2+num3\n",
    "sum2=sum1\n",
    "if num1==num2:\n",
    "    sum2=num3\n",
    "if num1==num3:\n",
    "    sum2=num2\n",
    "if num2==num3:\n",
    "    sum2=num1\n",
    "if num1==num2:\n",
    "    if num2==num3:\n",
    "        sum2=0\n",
    "print(\"Two sum's are =\",sum1,\"and\",sum2)"
   ]
  },
  {
   "cell_type": "code",
   "execution_count": null,
   "metadata": {},
   "outputs": [],
   "source": [
    "#to test the divisibility of a number with another number \n",
    "num1=int(input(\"Enter a first number :\"))\n",
    "num2=int(input(\"Enter a second number:\"))\n",
    "if num1%num2==0:\n",
    "    print(num1,\"is divisible by\",num2)\n",
    "else:\n",
    "    print(num1,\"is not divisible by \",num2)\n",
    "    "
   ]
  },
  {
   "cell_type": "code",
   "execution_count": null,
   "metadata": {},
   "outputs": [],
   "source": [
    "#to find the multiples of a number out of given 5 number\n",
    "num1=float(input(\"First Number :\"))\n",
    "num2=float(input(\"Second Number :\"))\n",
    "num3=float(input(\"Third number :\"))\n",
    "num4=float(input(\"Fourth number :\"))\n",
    "num5=float(input(\"Five number :\"))\n",
    "divisor=float(input(\"Enter the divisor number :\"))\n",
    "count=0\n",
    "print(\"Multipes of \"divisor,\"are :\")\n",
    "if num1%divisor==0:\n",
    "    count+=1\n",
    "    print(num1)\n",
    "if num2%divisor==0:\n",
    "    count+=1\n",
    "    print(num2)\n",
    "if num3%divisor==0:\n",
    "    count+=1\n",
    "    print(num3)\n",
    "if num4%divisor==0:\n",
    "    count+=1\n",
    "    print(num4)\n",
    "if num5%divisor==0:\n",
    "    count+=1\n",
    "    print(num5)\n",
    "print(count,\"multiples of\",divisor,\"are found\")"
   ]
  },
  {
   "cell_type": "code",
   "execution_count": 2,
   "metadata": {},
   "outputs": [
    {
     "name": "stdout",
     "output_type": "stream",
     "text": [
      "Enter radius of the circle :3.5\n",
      "1. Calculate Area \n",
      " 2. Calculate Perimeter \n",
      "Enter your choice (1 or 2):2\n",
      "21.991148575128552 unit length\n"
     ]
    }
   ],
   "source": [
    "#to display a menu for calculating area of circle or perimeter of circle\n",
    "import math\n",
    "r=float(input(\"Enter radius of the circle :\"))\n",
    "print(\"1. Calculate Area \")\n",
    "print(\" 2. Calculate Perimeter \")\n",
    "choice = int(input(\"Enter your choice (1 or 2):\"))\n",
    "if choice==1:\n",
    "    area=math.pi*math.power(r,2)\n",
    "    print(\"Area of the circle is\",area,\"unit length square\")\n",
    "else:\n",
    "    peri=2*math.pi*r\n",
    "    print(peri,\"unit length\")\n"
   ]
  },
  {
   "cell_type": "code",
   "execution_count": 8,
   "metadata": {},
   "outputs": [
    {
     "name": "stdout",
     "output_type": "stream",
     "text": [
      "ENTER  FIRST NUMBER :457\n",
      "ENTER SECOND NUMBER :432\n",
      "ENTER THIRD NUMBER :567\n",
      "Accending order of three given numbers are: 432 457 567\n"
     ]
    }
   ],
   "source": [
    "#that reads three number(integer) and prints them in ascending order and decending order .\n",
    "x=int(input(\"ENTER  FIRST NUMBER :\"))\n",
    "y=int(input(\"ENTER SECOND NUMBER :\"))\n",
    "z=int(input(\"ENTER THIRD NUMBER :\"))\n",
    "max=mid=min\n",
    "if x>y:\n",
    "    if x>y and y>z:\n",
    "        max,mid,min=x,y,z\n",
    "    else:\n",
    "        max,mid,min=z,x,y\n",
    "elif y>x:\n",
    "    if y>x and x>z:\n",
    "        max,mid,min=y,x,z\n",
    "    else:\n",
    "        max,mid,min=z,y,x\n",
    "elif x>z:\n",
    "    if x>z and z>y:\n",
    "        max,mid,min=x,z,y\n",
    "    else:\n",
    "        max,mid,min=y,z,x\n",
    "print(\"Ascending order of three given numbers are:\",min,mid,max)\n",
    "print(\"Decending order of three given numbers are :\",max,mid,min)"
   ]
  },
  {
   "cell_type": "code",
   "execution_count": 9,
   "metadata": {},
   "outputs": [
    {
     "name": "stdout",
     "output_type": "stream",
     "text": [
      "Enter first number :23\n",
      "Enter second number :43\n",
      "Enter the operator [+,-,x,/,%,//]//\n",
      "Result : 0.0\n"
     ]
    }
   ],
   "source": [
    "#that reads two numbers and arithmetic operator and displays the computed result\n",
    "num1=float(input(\"Enter first number :\"))\n",
    "num2=float(input(\"Enter second number :\"))\n",
    "oper=input(\"Enter the operator [+,-,x,/,%,//]\")\n",
    "if oper==\"+\":\n",
    "    print(\"Result :\",num1+num2)\n",
    "elif oper==\"-\":\n",
    "    print(\"Result :\",num1-num2)\n",
    "elif oper==\"x\":\n",
    "    print(\"Result :\",num1*num2)\n",
    "elif oper==\"/\":\n",
    "    print(\"Result :\",num1/num2)\n",
    "elif oper==\"%\":\n",
    "    print(\"Result :\",num1%num2)\n",
    "elif oper==\"//\":\n",
    "    print(\"Result :\",num1//num2)\n"
   ]
  },
  {
   "cell_type": "code",
   "execution_count": 14,
   "metadata": {},
   "outputs": [
    {
     "name": "stdout",
     "output_type": "stream",
     "text": [
      "ENTER THE CHARACTER:4\n",
      "---U ENTERED A NUMBER CHARACTER--- \n"
     ]
    }
   ],
   "source": [
    "#to print whether a given characteris an uppercase or a lowercase character or a digit or any other character.\n",
    "x=input(\"ENTER THE CHARACTER:\")\n",
    "if x>=\"A\" and x<=\"Z\":\n",
    "    print(\"---U ENTERED A UPPERCASE CHARACTER---\")\n",
    "elif x>=\"a\" and  x<=\"z\":\n",
    "    print(\"---U ENTERED A LOWERCASE CHARACTER---\")\n",
    "elif x>=\"0\" and x<=\"9\":\n",
    "    print(\"---U ENTERED A NUMBER CHARACTER--- \")\n",
    "else :\n",
    "    print(\"--- U ENTERED A SPECIAL CHARACTER ---\")"
   ]
  },
  {
   "cell_type": "code",
   "execution_count": 18,
   "metadata": {
    "scrolled": true
   },
   "outputs": [
    {
     "name": "stdout",
     "output_type": "stream",
     "text": [
      "Enter the value of coefficent of for quardatic equation:ax^2+bx+c \n",
      "Enter value of a 0\n",
      "Enter value of b 2\n",
      "Enter value of c 1\n",
      "a is not equal to zero\n"
     ]
    }
   ],
   "source": [
    "#to calculate and print roots of a quadratic equation: ax^2+bx+c=0(anot=0)\n",
    "import math \n",
    "print(\"Enter the value of coefficent of for quardatic equation:ax^2+bx+c \")\n",
    "a=int(input(\"Enter value of a \"))\n",
    "b=int(input(\"Enter value of b \"))\n",
    "c=int(input (\"Enter value of c \"))\n",
    "if a==0:\n",
    "    print(\"value of a should not be zero\")\n",
    "else:\n",
    "    x=math.pow(b,2)-4*a*c\n",
    "    t=math.sqrt(x)\n",
    "    y=(-b+t)/(2*a)\n",
    "    z=(-b-t)/(2*a)\n",
    "    print(\"Roots of this equation is :\",y,\",\",z)"
   ]
  },
  {
   "cell_type": "code",
   "execution_count": 1,
   "metadata": {},
   "outputs": [
    {
     "name": "stdout",
     "output_type": "stream",
     "text": [
      "Enter the length of pyramid: 12\n",
      "           1\n",
      "          212\n",
      "         32123\n",
      "        4321234\n",
      "       543212345\n",
      "      65432123456\n",
      "     7654321234567\n",
      "    876543212345678\n",
      "   98765432123456789\n",
      "  109876543212345678910\n",
      " 1110987654321234567891011\n",
      "12111098765432123456789101112\n"
     ]
    }
   ],
   "source": [
    "num = int(input(\"Enter the number betweeb 1- 9\"))\n",
    "k=num-1\n",
    "for i in range (1,num+1):\n",
    "    for j in range (0,k):\n",
    "        print(end=' ')\n",
    "    k-=1\n",
    "    for j in range (i,0,-1):\n",
    "        \n",
    "        print(j,end='')\n",
    "    for j in range(2,i+1):\n",
    "        print(j,end='')\n",
    "    print()"
   ]
  },
  {
   "cell_type": "code",
   "execution_count": 4,
   "metadata": {},
   "outputs": [
    {
     "name": "stdout",
     "output_type": "stream",
     "text": [
      "Enter the number for table :3\n",
      "3 x 1 =  3\n",
      "3 x 2 =  6\n",
      "3 x 3 =  9\n",
      "3 x 4 =  12\n",
      "3 x 5 =  15\n",
      "3 x 6 =  18\n",
      "3 x 7 =  21\n",
      "3 x 8 =  24\n",
      "3 x 9 =  27\n",
      "3 x 10 =  30\n"
     ]
    }
   ],
   "source": [
    "#to print table of a number\n",
    "num=int(input(\"Enter the number for table :\"))\n",
    "for i in range(1,11):\n",
    "    print(num,\"x\",i,\"=\",num*i)"
   ]
  },
  {
   "cell_type": "code",
   "execution_count": 2,
   "metadata": {},
   "outputs": [
    {
     "name": "stdout",
     "output_type": "stream",
     "text": [
      "enter the range :10\n",
      "Sum of natural numbers => 1 is 1\n",
      "Sum of natural numbers => 2 is 3\n",
      "Sum of natural numbers => 3 is 6\n",
      "Sum of natural numbers => 4 is 10\n",
      "Sum of natural numbers => 5 is 15\n",
      "Sum of natural numbers => 6 is 21\n",
      "Sum of natural numbers => 7 is 28\n",
      "Sum of natural numbers => 8 is 36\n",
      "Sum of natural numbers => 9 is 45\n",
      "Sum of natural numbers => 10 is 55\n"
     ]
    }
   ],
   "source": [
    "#to print sum of natural numbers between 1to7 .print the sum progressively,i.e., after adding each natural number ,print sum so far.\n",
    "sum=0\n",
    "t=int(input(\"enter the range :\"))\n",
    "for i in range(1,t+1):\n",
    "    sum+=i\n",
    "    print(\"Sum of natural numbers =>\",i,\"is\",sum)"
   ]
  },
  {
   "cell_type": "code",
   "execution_count": 7,
   "metadata": {},
   "outputs": [
    {
     "name": "stdout",
     "output_type": "stream",
     "text": [
      "sum of natural numbers => 7 is  28\n"
     ]
    }
   ],
   "source": [
    "#to print sum of natural numbers between 1to7\n",
    "sum=0\n",
    "for i in range(1,8):\n",
    "    sum+=i\n",
    "print(\"sum of natural numbers => 7 is \",sum)"
   ]
  },
  {
   "cell_type": "code",
   "execution_count": null,
   "metadata": {},
   "outputs": [],
   "source": [
    "#to calculate the factorial of a number \n",
    "t=int(input (\"Enter the number of factorial:\"))\n",
    "a=1\n",
    "fact=1\n",
    "while a <=t:\n",
    "    fact*=a\n",
    "    a+=1\n",
    "print(\"factorial of \",t,\"is \",fact)"
   ]
  },
  {
   "cell_type": "code",
   "execution_count": 4,
   "metadata": {},
   "outputs": [
    {
     "name": "stdout",
     "output_type": "stream",
     "text": [
      "up to which natural numbers?25\n",
      "sum of odd numbers : 169\n",
      "sum of even numbers : 156\n"
     ]
    }
   ],
   "source": [
    "#to calculate and print the sums of even and odd intrgers of first n natural numbers.\n",
    "t=int(input(\"up to which natural numbers?\"))\n",
    "even=odd=0\n",
    "a=0\n",
    "while a<=t:\n",
    "    if a%2==0:\n",
    "        even+=a\n",
    "    else:\n",
    "        odd+=a\n",
    "    a+=1\n",
    "print(\"sum of odd numb ers :\",odd)\n",
    "print(\"sum of even numbers :\",even)\n"
   ]
  },
  {
   "cell_type": "code",
   "execution_count": 5,
   "metadata": {},
   "outputs": [
    {
     "name": "stdout",
     "output_type": "stream",
     "text": [
      "Enter the guess number10\n",
      "Enter the guess number10\n",
      "Enter the guess number12\n",
      "Enter the guess number12\n",
      "Enter the guess number14\n",
      "Enter the guess number15\n",
      "YOU LOSE:( TRY NEXT TIME  \n",
      " The number is 29\n"
     ]
    }
   ],
   "source": [
    "#to implement 'guess the number ' game. Python generates a number randomly in the range {10,50}.The user is given five chances to guess a number in range 10<=number<=50.\n",
    "import random\n",
    "num=random.randint(10,50)\n",
    "a=0\n",
    "for a in range(5):\n",
    "    guess=int(input(\"Enter what number u guessed between 10to50:\"))\n",
    "    if guess==num:\n",
    "        print(\"YOU WIN :)!!!\")\n",
    "        break\n",
    "    else:\n",
    "        a+=1\n",
    "if not a<5:\n",
    "    print(\"YOU LOSE:( TRY NEXT TIME \",\"\\n The number is\",num)"
   ]
  },
  {
   "cell_type": "code",
   "execution_count": 6,
   "metadata": {},
   "outputs": [
    {
     "name": "stdout",
     "output_type": "stream",
     "text": [
      " Enter the number between 20 to 50:25\n",
      "Its a loop for break statement\n",
      "1\n",
      "2\n",
      "Its  a loop for continue statement\n",
      "1\n",
      "2\n",
      "4\n",
      "5\n",
      "7\n",
      "8\n",
      "10\n",
      "11\n",
      "13\n",
      "14\n",
      "16\n",
      "17\n",
      "19\n",
      "20\n",
      "22\n",
      "23\n"
     ]
    }
   ],
   "source": [
    "#to illustrate the difference between break and continue statements.\n",
    "t=int(input(\" Enter the number between 20 to 50:\"))\n",
    "print(\"Its a loop for break statement\")\n",
    "for i in range(1,t):\n",
    "    if i%3==0:\n",
    "        break\n",
    "    else:\n",
    "        print(i)\n",
    "print(\"Its  a loop for continue statement\")\n",
    "for j in range(1,t):\n",
    "    if j%3==0:\n",
    "        continue\n",
    "    else:\n",
    "        print(j)\n"
   ]
  },
  {
   "cell_type": "code",
   "execution_count": null,
   "metadata": {},
   "outputs": [],
   "source": [
    "#to input some numbers repeatedly and print their sum. The program ends when the users say no more to enter (normal termination )or program aborts when the number entered is less than zero.\n",
    "count=sum=0\n",
    "ans='yes'\n",
    "while ans=='yes':\n",
    "    num=int(input(\"Enter number:\"))\n",
    "    sum+=num\n",
    "    count+=1\n",
    "    ans=input(\"Want to input more number (yes or no)\")\n",
    "else:\n",
    "    print(\"you entered \",count,\"so far\")\n",
    "print(\"Sum of numbers entered :\",sum)\n",
    "    "
   ]
  },
  {
   "cell_type": "code",
   "execution_count": 2,
   "metadata": {},
   "outputs": [
    {
     "name": "stdout",
     "output_type": "stream",
     "text": [
      "Enter a number to check :15\n",
      "15 is not a prime number\n"
     ]
    }
   ],
   "source": [
    "# to input a number and test if it is a prime number.\n",
    "num=int(input(\"Enter a number to check :\"))\n",
    "lim=int(num/2)+1\n",
    "for i in range (2,lim):\n",
    "    if num%i==0:\n",
    "        print(num,\"is not a prime number\")\n",
    "        break\n",
    "else:\n",
    "    print(num,\"is a prime number \")\n",
    "    \n",
    "    \n",
    "    \n",
    "    \n",
    "    \n",
    "    \n",
    "    \n",
    "    \n",
    "    \n",
    "    \n",
    "    \n",
    "    \n",
    "    \n",
    "    \n",
    "    \n",
    "    \n",
    "    \n",
    "    \n",
    "    \n",
    "                         \n"
   ]
  },
  {
   "cell_type": "code",
   "execution_count": 3,
   "metadata": {},
   "outputs": [
    {
     "name": "stdout",
     "output_type": "stream",
     "text": [
      "\n",
      "*\n",
      "**\n",
      "***\n",
      "****\n",
      "*****\n",
      "******\n",
      "*******\n"
     ]
    }
   ],
   "source": [
    "#to print a pattern of *\n",
    "for i in range(1,9):\n",
    "    for j in range(1,i):\n",
    "        print(\"*\",end='')\n",
    "    print()\n"
   ]
  },
  {
   "cell_type": "code",
   "execution_count": 13,
   "metadata": {},
   "outputs": [
    {
     "name": "stdout",
     "output_type": "stream",
     "text": [
      "Enter the last number which u want to see:60\n",
      "3 is a prime number \n",
      "Found a factor ( 2 ) for  4\n",
      "5 is a prime number \n",
      "Found a factor ( 2 ) for  6\n",
      "7 is a prime number \n",
      "Found a factor ( 2 ) for  8\n",
      "Found a factor ( 3 ) for  9\n",
      "Found a factor ( 2 ) for  10\n",
      "11 is a prime number \n",
      "Found a factor ( 2 ) for  12\n",
      "13 is a prime number \n",
      "Found a factor ( 2 ) for  14\n",
      "Found a factor ( 3 ) for  15\n",
      "Found a factor ( 2 ) for  16\n",
      "17 is a prime number \n",
      "Found a factor ( 2 ) for  18\n",
      "19 is a prime number \n",
      "Found a factor ( 2 ) for  20\n",
      "Found a factor ( 3 ) for  21\n",
      "Found a factor ( 2 ) for  22\n",
      "23 is a prime number \n",
      "Found a factor ( 2 ) for  24\n",
      "Found a factor ( 5 ) for  25\n",
      "Found a factor ( 2 ) for  26\n",
      "Found a factor ( 3 ) for  27\n",
      "Found a factor ( 2 ) for  28\n",
      "29 is a prime number \n",
      "Found a factor ( 2 ) for  30\n",
      "31 is a prime number \n",
      "Found a factor ( 2 ) for  32\n",
      "Found a factor ( 3 ) for  33\n",
      "Found a factor ( 2 ) for  34\n",
      "Found a factor ( 5 ) for  35\n",
      "Found a factor ( 2 ) for  36\n",
      "37 is a prime number \n",
      "Found a factor ( 2 ) for  38\n",
      "Found a factor ( 3 ) for  39\n",
      "Found a factor ( 2 ) for  40\n",
      "41 is a prime number \n",
      "Found a factor ( 2 ) for  42\n",
      "43 is a prime number \n",
      "Found a factor ( 2 ) for  44\n",
      "Found a factor ( 3 ) for  45\n",
      "Found a factor ( 2 ) for  46\n",
      "47 is a prime number \n",
      "Found a factor ( 2 ) for  48\n",
      "Found a factor ( 7 ) for  49\n",
      "Found a factor ( 2 ) for  50\n",
      "Found a factor ( 3 ) for  51\n",
      "Found a factor ( 2 ) for  52\n",
      "53 is a prime number \n",
      "Found a factor ( 2 ) for  54\n",
      "Found a factor ( 5 ) for  55\n",
      "Found a factor ( 2 ) for  56\n",
      "Found a factor ( 3 ) for  57\n",
      "Found a factor ( 2 ) for  58\n",
      "59 is a prime number \n",
      "Found a factor ( 2 ) for  60\n"
     ]
    }
   ],
   "source": [
    "#program that searches for prime numbers from 15through 25.\n",
    "t=int(input(\"Enter the last number which u want to see:\"))\n",
    "for i in range (3,t+1):\n",
    "    for j in range (2,i):\n",
    "        if i%j==0:\n",
    "            \n",
    "            print(\"Found a factor (\",j,\") for \",i)\n",
    "            break\n",
    "    else:\n",
    "        print(i,\"is a prime number \")"
   ]
  },
  {
   "cell_type": "code",
   "execution_count": null,
   "metadata": {},
   "outputs": [],
   "source": [
    "#to be a interactive  grade calculation script for an entrance test that onverts from percentage into a letter grade\n",
    "for i in range (1,100):\n",
    "    grade = float(input (\" Enter the percentage :\"))\n",
    "    if  grade>=90:\n",
    "        print(\"its an A+\n",
    "    elif grade>=80:\n",
    "        print(\"its an A\")\n",
    "    elif grade>=60:\n",
    "        print(\"its an A-\")\n",
    "    else:\n",
    "        print(\"Sorry, You need  A- to qualify\")\n",
    "        "
   ]
  },
  {
   "cell_type": "code",
   "execution_count": 4,
   "metadata": {},
   "outputs": [
    {
     "name": "stdout",
     "output_type": "stream",
     "text": [
      "0 ,1 ,1 ,2 ,3 ,5 ,8 ,13 ,21 ,34 ,55 ,89 ,144 ,233 ,377 ,610 ,987 ,1597 ,2584 ,4181 ,6765 ,10946 ,17711 ,28657 ,46368 ,75025 ,"
     ]
    }
   ],
   "source": [
    "#to print Fibonacci series first 20 elements.Some initial elements of a Fibonacci series are:0112358...\n",
    "first=0\n",
    "second=1\n",
    "print(first,\",\",end='',)\n",
    "print(second,\",\",end='')\n",
    "for i in range(1,25):\n",
    "    third=first+second\n",
    "    print(third,\",\",end='')\n",
    "    first,second=second,third\n",
    "    \n"
   ]
  },
  {
   "cell_type": "code",
   "execution_count": 1,
   "metadata": {},
   "outputs": [
    {
     "name": "stdout",
     "output_type": "stream",
     "text": [
      "Enter a number (>1000)2586\n",
      "The reverse of  2586 is  6852\n"
     ]
    }
   ],
   "source": [
    "#a python script to read an integer(>1000)and reverse the number\n",
    "num=int(input(\"Enter a number (>1000)\"))\n",
    "tnum= num\n",
    "rev=0\n",
    "while tnum:\n",
    "    dig=tnum%10\n",
    "    tnum=int(tnum/10)\n",
    "    rev=rev*10+dig\n",
    "print(\"The reverse of \",num,\"is \",rev)"
   ]
  },
  {
   "cell_type": "code",
   "execution_count": 6,
   "metadata": {},
   "outputs": [
    {
     "name": "stdout",
     "output_type": "stream",
     "text": [
      "Enter a number:46\n",
      "The divisors of  46 are:\n",
      "2 ,23 ,\n",
      "---end---\n"
     ]
    }
   ],
   "source": [
    "#to generate divisor of a number \n",
    "num= int(input(\"Enter a number:\"))\n",
    "mid=int(num/2)\n",
    "print(\"The divisors of \",num,\"are:\")\n",
    "for i in range(2,mid +1):\n",
    "    if num%i==0:\n",
    "        print(i,\",\",end='')\n",
    "else:\n",
    "    print(\"\\n---end---\")"
   ]
  },
  {
   "cell_type": "code",
   "execution_count": null,
   "metadata": {},
   "outputs": [],
   "source": [
    "#input three angles and determine it form triangle or not.\n",
    "ang1=ang2=ang3=0\n",
    "ang1=float(input(\"enter angle 1:\"))\n",
    "ang2=float(input(\"enter angle 2:\"))\n",
    "ang3=float(input(\"enter angle 3:\"))\n",
    "if ang1+ang2+ang3==180:\n",
    "    print(\"These angle form a triangle :\")\n",
    "else:\n",
    "    print(\"These angle don't form a triangle:\")"
   ]
  },
  {
   "cell_type": "code",
   "execution_count": 3,
   "metadata": {},
   "outputs": [
    {
     "name": "stdout",
     "output_type": "stream",
     "text": [
      "First 10 mersenne numbers are :\n",
      "1 3 7 15 31 63 127 255 511 1023 \n"
     ]
    }
   ],
   "source": [
    "#a python script  that displays first ten mersenne numbers \n",
    "print(\"First 10 mersenne numbers are :\")\n",
    "for i in range (1,11):\n",
    "    mers=(2**i)-1\n",
    "    print(mers,end=' ')\n",
    "print()"
   ]
  },
  {
   "cell_type": "code",
   "execution_count": 12,
   "metadata": {},
   "outputs": [
    {
     "name": "stdout",
     "output_type": "stream",
     "text": [
      "First 20 mersenne numbers are :\n",
      "1 \tprime\n",
      "3 \tprime\n",
      "7 \tprime\n",
      "31 \tprime\n",
      "127 \tprime\n",
      "8191 \tprime\n",
      "131071 \tprime\n",
      "524287 \tprime\n"
     ]
    }
   ],
   "source": [
    "#a python script  that display 20 mersenne prime numbers\n",
    "print(\"First 20 mersenne numbers are :\")\n",
    "for i in range (1,21):\n",
    "    mers=(2**i)-1\n",
    "    mid=int(mers/2)+1\n",
    "    for j in range(2,mid):\n",
    "        if mers%j==0:\n",
    "            break\n",
    "    else:\n",
    "        print(mers,\"\\tprime\")\n",
    "        "
   ]
  },
  {
   "cell_type": "code",
   "execution_count": 16,
   "metadata": {},
   "outputs": [
    {
     "name": "stdout",
     "output_type": "stream",
     "text": [
      "Enter value of x:1\n",
      "Enter value of n:3\n",
      "sum of series= 4.0\n"
     ]
    }
   ],
   "source": [
    "#a program to find sum of the series:s=1+x+x^2+x^3---x^n\n",
    "x=float(input(\"Enter value of x:\"))f\n",
    "n=int(input(\"Enter value of n:\"))\n",
    "s=1\n",
    "for i in range(1,n+1):\n",
    "    s+=x**i\n",
    "print(\"sum of series=\",s)"
   ]
  },
  {
   "cell_type": "code",
   "execution_count": 5,
   "metadata": {},
   "outputs": [
    {
     "name": "stdout",
     "output_type": "stream",
     "text": [
      "Enter first number :125\n",
      "Enter second number:120\n",
      "HCF: 5 =5 x1\n",
      "\n",
      "LCM: 3000 =2 x2 x2 x3 x5 x5 x5 x1\n"
     ]
    }
   ],
   "source": [
    "#to input two numbers and print their lcm and hcf\n",
    "x=int(input(\"Enter first number :\"))\n",
    "y=int (input(\"Enter second number:\"))\n",
    "\n",
    "if x>y:\n",
    "    big=x\n",
    "\n",
    "else:\n",
    "    big=y\n",
    "hcf=1\n",
    "for i in range (1,big+1):\n",
    "    if x%i==0 and y%i==0:\n",
    "        hcf=i\n",
    "\n",
    "while(True):\n",
    "    if((big% x == 0) and (big % y == 0)):\n",
    "        lcm = big\n",
    "        break\n",
    "    big += 1\n",
    "print(\"HCF:\",hcf,\"=\",end='')\n",
    "while hcf%2==0:\n",
    "    print(2,\"x\",end='')\n",
    "    hcf/=2\n",
    "for z in range(3,big+1,2):\n",
    "    while hcf%z==0:\n",
    "        print(z,\"x\",end='')\n",
    "        hcf/=z\n",
    "print(\"1\")\n",
    "\n",
    "print()\n",
    "print(\"LCM:\",lcm,\"=\",end='')\n",
    "while lcm%2==0:\n",
    "    print(2,\"x\",end='')\n",
    "    lcm/=2\n",
    "\n",
    "for t in range(3,big+1,2):\n",
    "    while lcm%t==0:\n",
    "        print(t,\"x\",end='')\n",
    "        lcm/=t\n",
    "print(\"1\")\n",
    "    \n",
    "    \n",
    "    \n",
    "                 "
   ]
  },
  {
   "cell_type": "code",
   "execution_count": 24,
   "metadata": {},
   "outputs": [
    {
     "name": "stdout",
     "output_type": "stream",
     "text": [
      "enter the value of n:10\n",
      "(1 ) + (1 + 2 ) + (1 + 2 + 3 ) + (1 + 2 + 3 + 4 ) + (1 + 2 + 3 + 4 + 5 ) + (1 + 2 + 3 + 4 + 5 + 6 ) + (1 + 2 + 3 + 4 + 5 + 6 + 7 ) + (1 + 2 + 3 + 4 + 5 + 6 + 7 + 8 ) + (1 + 2 + 3 + 4 + 5 + 6 + 7 + 8 + 9 ) + (1 + 2 + 3 + 4 + 5 + 6 + 7 + 8 + 9 + 10 )=> sum of terms => 220\n"
     ]
    }
   ],
   "source": [
    "#a python script to calculate sum of following series:\n",
    "n=int(input(\"enter the value of n:\"))\n",
    "t=0\n",
    "for i in range(1,n+1):\n",
    "    print(\"(\",end='')\n",
    "    for j in range(1,i+1):\n",
    "        \n",
    "        t+=j\n",
    "        print(j,end=' ')\n",
    "        if j==i:\n",
    "            break\n",
    "        else:\n",
    "            print('+ ',end='')\n",
    "    \n",
    "        \n",
    "    \n",
    "    print(\")\",end='')\n",
    "    if i==n:\n",
    "        break\n",
    "    else:\n",
    "        print(' + ',end='')\n",
    "print(\"=> sum of terms =>\",t)\n"
   ]
  },
  {
   "cell_type": "code",
   "execution_count": 26,
   "metadata": {},
   "outputs": [
    {
     "name": "stdout",
     "output_type": "stream",
     "text": [
      "1\n",
      "11\n",
      "111\n",
      "1111\n",
      "11111\n",
      "111111\n"
     ]
    }
   ],
   "source": [
    "#a program to print the following using a single loop(no nested loop)\n",
    "n=\"1\"\n",
    "print(n)\n",
    "for i in range(1,5):\n",
    "    n+=\"1\"\n",
    "    print(n)\n",
    "    "
   ]
  },
  {
   "cell_type": "code",
   "execution_count": 34,
   "metadata": {},
   "outputs": [
    {
     "name": "stdout",
     "output_type": "stream",
     "text": [
      "54321\n",
      "5432\n",
      "543\n",
      "54\n",
      "5\n"
     ]
    }
   ],
   "source": [
    "#a program to print a pattern like:\n",
    "for i in range(5):\n",
    "    for j in range(5,i,-1):\n",
    "        print(j,end='')\n",
    "    print()\n",
    "        \n",
    "    "
   ]
  },
  {
   "cell_type": "code",
   "execution_count": 38,
   "metadata": {},
   "outputs": [
    {
     "name": "stdout",
     "output_type": "stream",
     "text": [
      "Enter the length in centimeter :-1\n",
      "!!!!!  ----Enter a valid length------ !!!!!\n"
     ]
    }
   ],
   "source": [
    "#a python script that asks the user to enter a length in centimeters\n",
    "#If user enters a negative length ,program should tell user that entry is invalid. \n",
    "#Otherwise, the program should convert the length to inches and print out the result. There are 2.54 cm in an inch.\n",
    "l=float(input(\"Enter the length in centimeter :\"))\n",
    "if l<=0:\n",
    "    print(\"!!!!!  ----Enter a valid length------ !!!!!\")\n",
    "else:\n",
    "    print(l/2.54,\"inch\")"
   ]
  },
  {
   "cell_type": "code",
   "execution_count": 39,
   "metadata": {},
   "outputs": [
    {
     "name": "stdout",
     "output_type": "stream",
     "text": [
      "Enter how many item is you are buying :12\n",
      "Total cost of your item is : Rs. 1200\n",
      "------THANK YOU FOR SHOPPING-----\n"
     ]
    }
   ],
   "source": [
    "#a store charges 120rs per item if you buy less than 10 item .if  you buy between 10 and 99 item cost is 100rs and if you buy more then 100 item the cost is 70rs\n",
    "#a program that asks the user how many item they are buying an print the cost\n",
    "t=int(input (\"Enter how many item is you are buying :\"))\n",
    "if t<10:\n",
    "    print(\"Total cost of your item is : Rs.\",t*120)\n",
    "elif t>10 and t<100:\n",
    "    print(\"Total cost of your item is : Rs.\",t*100)\n",
    "elif t>100:\n",
    "    print(\"Total cost of your item is : Rs.\",t*70)\n",
    "else:\n",
    "    print(\"Buy something\")\n",
    "print(\"------THANK YOU FOR SHOPPING-----\")"
   ]
  },
  {
   "cell_type": "code",
   "execution_count": 40,
   "metadata": {},
   "outputs": [
    {
     "name": "stdout",
     "output_type": "stream",
     "text": [
      "Enter hour between 1-12 :8\n",
      "How many hours ahead :5\n",
      "1 oclock\n"
     ]
    }
   ],
   "source": [
    "#a program that reads from user -(i) an hour between 1to 12 and (ii)number of hours ahead. The program print the time\n",
    "h=int(input(\"Enter hour between 1-12 :\"))\n",
    "t=int(input(\"How many hours ahead :\"))\n",
    "if h>12:\n",
    "    print(\"!!--Enter a valid hours--!!\")\n",
    "else:\n",
    "    r=h+t\n",
    "    if r>12:\n",
    "        print(r-12,\"Oclock\")\n",
    "    else:\n",
    "        print(r,\"Oclock\")"
   ]
  },
  {
   "cell_type": "code",
   "execution_count": 43,
   "metadata": {},
   "outputs": [
    {
     "name": "stdout",
     "output_type": "stream",
     "text": [
      "Enter first number :12.005\n",
      "Enter second number :12.004\n",
      "NOT CLOSE\n"
     ]
    }
   ],
   "source": [
    "#a program that asks the user for two numbers and prints close if the numbers are within .001 of each other and not close otherwise\n",
    "num1=float(input(\"Enter first number :\"))\n",
    "num2=float(input(\"Enter second number :\"))\n",
    "if num1>num2:\n",
    "    x=num1-num2\n",
    "else:\n",
    "    x=num2-num1\n",
    "if d<=.001:\n",
    "    print(\"CLOSE\")\n",
    "else:\n",
    "    print(\"NOT CLOSE\")"
   ]
  },
  {
   "cell_type": "code",
   "execution_count": 45,
   "metadata": {},
   "outputs": [
    {
     "name": "stdout",
     "output_type": "stream",
     "text": [
      "ENTER THE YEAR :1900\n",
      "Its not a leap year\n"
     ]
    }
   ],
   "source": [
    "#a program that asks user for a year and print out whether its a leap year or not.\n",
    "year=int(input(\"ENTER THE YEAR :\"))\n",
    "a=year%4\n",
    "b=year%400\n",
    "if a==0:\n",
    "    if b==0:\n",
    "        print(\"Its a leap year\")\n",
    "    else:\n",
    "        print(\"Its not a leap year\")\n",
    "else:\n",
    "    print(\"Its not a leap year\")\n"
   ]
  },
  {
   "cell_type": "code",
   "execution_count": 47,
   "metadata": {},
   "outputs": [
    {
     "data": {
      "text/plain": [
       "2"
      ]
     },
     "execution_count": 47,
     "metadata": {},
     "output_type": "execute_result"
    }
   ],
   "source": []
  },
  {
   "cell_type": "code",
   "execution_count": 1,
   "metadata": {},
   "outputs": [
    {
     "name": "stdout",
     "output_type": "stream",
     "text": [
      "Enter first side length :12\n",
      "Enter second side length :1\n",
      "Enter third side length :2\n",
      "THESE SIDES DON'T FORM A TRIANGLE\n"
     ]
    }
   ],
   "source": [
    "#a program to input length of three sides of a triangle. and check if these sides form a triangle or not\n",
    "s1=float(input(\"Enter first side length :\"))\n",
    "s2=float(input(\"Enter second side length :\"))\n",
    "s3=float(input(\"Enter third side length :\"))\n",
    "if s1+s2>s3:\n",
    "    if s2+s3>s1:\n",
    "        if s3+s1>s2:\n",
    "            print(\"THESE SIDES FORM A TRIANGLE\")\n",
    "    else:\n",
    "        print(\"THESE SIDES DON'T FORM A TRIANGLE\")   \n",
    "\n",
    "\n",
    "else:\n",
    "    print(\"THESE SIDES DON'T FORM A TRIANGLE\")"
   ]
  },
  {
   "cell_type": "code",
   "execution_count": 6,
   "metadata": {},
   "outputs": [
    {
     "name": "stdout",
     "output_type": "stream",
     "text": [
      "Enter a digit:5\n",
      "Five\n"
     ]
    }
   ],
   "source": [
    "#a short program to input a digit and print it in words\n",
    "d=int(input(\"Enter a digit:\"))\n",
    "if d>9:\n",
    "    print(\"!!!==ENTER A DIGIT==!!!\")\n",
    "elif d==1:\n",
    "    print(\"One\")\n",
    "elif d==2:\n",
    "    print(\"Two\")\n",
    "elif d==3:\n",
    "    print(\"Three\")\n",
    "elif d==4:\n",
    "    print(\"Four\")\n",
    "elif d==5:\n",
    "    print(\"Five\")\n",
    "elif d==6:\n",
    "    print(\"Six\")\n",
    "elif d==7:\n",
    "    print(\"Seven\")\n",
    "    \n",
    "elif d==8:\n",
    "    print(\"Eight\")\n",
    "    \n",
    "elif d==9:\n",
    "    print(\"Nine\")\n",
    "    "
   ]
  },
  {
   "cell_type": "code",
   "execution_count": 3,
   "metadata": {},
   "outputs": [
    {
     "name": "stdout",
     "output_type": "stream",
     "text": [
      "Enter a number:16\n",
      "Its square root is not a prime number \n"
     ]
    }
   ],
   "source": [
    "#a short program to check whether square root of a number is prime or not\n",
    "t=float(input(\"Enter a number:\"))\n",
    "import math\n",
    "x=math.sqrt(t)\n",
    "mid=int(x/2)+1\n",
    "if x==2:\n",
    "    print(\"Its square root is a prime number\")\n",
    "\n",
    "else:\n",
    "    \n",
    "    for i in range(3,mid):\n",
    "        if x%i==0:\n",
    "            print(\"Its square root is a prime number \")\n",
    "    else: \n",
    "        print(\"Its square root is not a prime number \")\n",
    "            \n"
   ]
  },
  {
   "cell_type": "code",
   "execution_count": 6,
   "metadata": {},
   "outputs": [
    {
     "name": "stdout",
     "output_type": "stream",
     "text": [
      "Enter the range :15\n",
      "15\n",
      "13\n",
      "11\n",
      "9\n",
      "7\n",
      "5\n",
      "3\n"
     ]
    }
   ],
   "source": [
    "#a program to print first n odd numbers in desending order\n",
    "n= int(input(\"Enter the range :\"))\n",
    "for i in range(n,1,-1):\n",
    "    if i%2!=0:\n",
    "        print(i)\n",
    "    "
   ]
  },
  {
   "cell_type": "code",
   "execution_count": 18,
   "metadata": {},
   "outputs": [
    {
     "name": "stdout",
     "output_type": "stream",
     "text": [
      "Enter the length of series :15\n",
      "1 4 7 10 13 16 19 22 25 28 31 34 37 40 43 \n",
      "1 -4 7 -10 13 -16 19 -22 25 -28 31 -34 37 -40 43 "
     ]
    }
   ],
   "source": [
    "#a program to print the following series : 1, 4, 7, 10 ....... 40\n",
    "n=int(input(\"Enter the length of series :\"))\n",
    "a=1\n",
    "b=1\n",
    "for i in range (n):\n",
    "    \n",
    "    print(a,end=\" \")\n",
    "    a+=3\n",
    "print()\n",
    "for j in range (n):\n",
    "    if b%2==0:\n",
    "        print(-b,end=\" \")\n",
    "    else:\n",
    "        print(b,end=\" \")\n",
    "    b+=3\n",
    "    "
   ]
  },
  {
   "cell_type": "code",
   "execution_count": 19,
   "metadata": {},
   "outputs": [
    {
     "name": "stdout",
     "output_type": "stream",
     "text": [
      " Enter the number 12\n",
      "do u want to add more number (yes or no)yes\n",
      " Enter the number 15\n",
      "do u want to add more number (yes or no)ye\n",
      "13.5 is the average \n"
     ]
    }
   ],
   "source": [
    "#a short program to find average of list of numbers entered through keyboard\n",
    "ans='yes'\n",
    "sum=0\n",
    "count=0\n",
    "while ans=='yes':\n",
    "    t=int(input(\"Enter the number \"))\n",
    "    sum+=t\n",
    "    count+=1\n",
    "    ans=input(\"do u want to add more number (yes or no)\")\n",
    "else:\n",
    "    print(sum/count,\"is the average \")\n",
    "    \n"
   ]
  },
  {
   "cell_type": "code",
   "execution_count": 22,
   "metadata": {},
   "outputs": [
    {
     "name": "stdout",
     "output_type": "stream",
     "text": [
      "Enter first side of triangle :12\n",
      "Enter second side of triangle :12\n",
      "Enter third side of triangle :14\n",
      "These are the sides of isosceles triangle\n"
     ]
    }
   ],
   "source": [
    "#to input 3 sides of a triangele and print whether it is an equilateral , scalene or isosceles triangle.\n",
    "s1=int(input(\"Enter first side of triangle :\"))\n",
    "s2=int(input(\"Enter second side of triangle :\"))\n",
    "s3=int(input(\"Enter third side of triangle :\"))\n",
    "if s1==s2:\n",
    "    if s2==s3:\n",
    "        print(\"These are the sides of equilateral triangle \")\n",
    "    else:\n",
    "        print(\"These are the sides of isosceles triangle\")\n",
    "elif s2==s3:\n",
    "    print(\"These are the sides of isosceles triangle \")\n",
    "elif s1==s3:\n",
    "    print(\"These are the sides of isosceles triangle \")\n",
    "else:\n",
    "    print(\"These are the sides of scalene triangle\")"
   ]
  },
  {
   "cell_type": "code",
   "execution_count": 3,
   "metadata": {},
   "outputs": [
    {
     "name": "stdout",
     "output_type": "stream",
     "text": [
      "Enter a integer :456\n",
      "ENDS WITH NEITHER\n"
     ]
    }
   ],
   "source": [
    "#to take an integer a as an input and check whether it ends with 4 or 8. If it ends with 4,\n",
    "#if it end with 4 print ends with 4 if it ends with 8 print ends with 8 otherwise print\"ends with neither\"\n",
    "a=int(input(\"Enter a integer :\"))\n",
    "t=a-4\n",
    "w=a-8\n",
    "if t%10==0:\n",
    "    print(\" ENDS WITH 4\")\n",
    "elif w%10==0:\n",
    "    print(\"ENDS WITH 8\")\n",
    "else:\n",
    "    print (\"ENDS WITH NEITHER\")"
   ]
  },
  {
   "cell_type": "code",
   "execution_count": 4,
   "metadata": {},
   "outputs": [
    {
     "name": "stdout",
     "output_type": "stream",
     "text": [
      "Enter a number greater then 20 :45\n",
      "11 12 13 14 15 16 17 18 19 20 21 22 23 24 25 26 27 28 29 30 31 32 33 34 35 36 37 38 39 40 41 42 43 44 45 \n",
      "11\n",
      "\n",
      "12 --TipsyTopsy\n",
      "\n",
      "13\n",
      "\n",
      "14 --Topsy\n",
      "\n",
      "15 --TipsyTopsy\n",
      "\n",
      "16\n",
      "\n",
      "17\n",
      "\n",
      "18 --TipsyTopsy\n",
      "\n",
      "19\n",
      "\n",
      "20\n",
      "\n",
      "21 --Tipsy\n",
      "\n",
      "22\n",
      "\n",
      "23\n",
      "\n",
      "24 --TipsyTopsy\n",
      "\n",
      "25\n",
      "\n",
      "26\n",
      "\n",
      "27 --TipsyTopsy\n",
      "\n",
      "28 --Topsy\n",
      "\n",
      "29\n",
      "\n",
      "30 --TipsyTopsy\n",
      "\n",
      "31\n",
      "\n",
      "32\n",
      "\n",
      "33 --TipsyTopsy\n",
      "\n",
      "34\n",
      "\n",
      "35 --Topsy\n",
      "\n",
      "36 --TipsyTopsy\n",
      "\n",
      "37\n",
      "\n",
      "38\n",
      "\n",
      "39 --TipsyTopsy\n",
      "\n",
      "40\n",
      "\n",
      "41\n",
      "\n",
      "42 --Tipsy\n",
      "\n",
      "43\n",
      "\n",
      "44\n",
      "\n",
      "45 --TipsyTopsy\n"
     ]
    }
   ],
   "source": [
    "#to take N(N>20) as an input from the user.Print numbers from 11 to N.When the numberis a multiple of 3 ,print Tipsy. \n",
    "#when it is a multiple of 7 ,print\"topsy\".When it is a multiple of both ,print \"tipsytopsy\".\n",
    "N=int(input(\"Enter a number greater then 20 :\"))\n",
    "if N<20:\n",
    "    print(\"Enter number as discription \")\n",
    "else:\n",
    "    for i in range (11,N+1):\n",
    "        print(i,end=\" \")\n",
    "    for i in range(11,N+1):\n",
    "        print()\n",
    "        if i%3==0:\n",
    "            if i%7:\n",
    "                print(i,\"--TipsyTopsy\")\n",
    "            else:\n",
    "                print(i,\"--Tipsy\")\n",
    "        elif i%7==0:\n",
    "            print(i,\"--Topsy\")\n",
    "        else:\n",
    "            print(i)"
   ]
  },
  {
   "cell_type": "code",
   "execution_count": 3,
   "metadata": {},
   "outputs": [
    {
     "name": "stdout",
     "output_type": "stream",
     "text": [
      "---if u want to result which is highest number in the list press q and press enter on keyboard---\n",
      "Enter the list \n",
      "14\n",
      "16\n",
      "17\n",
      "15\n",
      "q\n",
      "17\n"
     ]
    }
   ],
   "source": [
    "#to find largestnumber of a list of numbers entered through keyboard\n",
    "print(\"---if u want to result which is highest number in the list press q and press enter on keyboard---\")\n",
    "\n",
    "n=0\n",
    "print(\"Enter the list \")\n",
    "a=input()\n",
    "big=a\n",
    "big=int(big)\n",
    "if big!=\"q\" and big!=\"Q\":\n",
    "    while True :\n",
    "        n = input()\n",
    "        \n",
    "        if n==\"q\" or n==\"Q\":\n",
    "        \n",
    "            break\n",
    "        n=int(n)\n",
    "        if n > big:\n",
    "            big=n\n",
    "print(big)\n",
    "    \n",
    "    "
   ]
  },
  {
   "cell_type": "code",
   "execution_count": null,
   "metadata": {},
   "outputs": [],
   "source": [
    "###### to input N numbers and then print the second largest number.\n",
    "n=int(input(\"Enter the range\"))\n",
    "l=input()\n",
    "m=input()\n",
    "if m>l:\n",
    "    t=m\n",
    "    m=l\n",
    "    l=t\n",
    "    for i in range(n-2):\n",
    "        a=input()\n",
    "        if a>l:\n",
    "            m=l\n",
    "            l=a\n",
    "        elif a>m:\n",
    "            m=a\n",
    "    print(\"second largest number is : \",m)\n",
    "    \n",
    "\n"
   ]
  },
  {
   "cell_type": "code",
   "execution_count": null,
   "metadata": {},
   "outputs": [],
   "source": [
    "#write a program to find those which are palindrome.\n",
    "#For example the number 4321234 is a palindrome as it reads the same from left to right and from right to left.\n",
    "\n",
    "\n",
    " "
   ]
  },
  {
   "cell_type": "code",
   "execution_count": null,
   "metadata": {},
   "outputs": [],
   "source": [
    "def interest(pri,time=2,rate=0.10):\n",
    "    return (pri*time*rate)/100\n",
    "#_main_\n",
    "prin=float(input(\"Enter principal amount\"))\n",
    "print(\"Simple Interest with default Roi and time values is:\")\n",
    "si1= interest(prin)\n",
    "print(\"Rs.\",si1)\n",
    "roi=float(input(\"Enter the rate of interest: \"))\n",
    "time=float(input (\"Enter the time in years:\"))\n",
    "print(\"Sinple Interest with user provided value : \")\n",
    "si2=interest(princ,time,roi)\n",
    "print(\"Rs.\",si2)"
   ]
  },
  {
   "cell_type": "code",
   "execution_count": 1,
   "metadata": {},
   "outputs": [
    {
     "name": "stdout",
     "output_type": "stream",
     "text": [
      "Calling myfun1() by passing 'num' with value 3\n",
      "\t Inside myfun1\n",
      "\t value recived in 'a' 3\n",
      "\t Value of 'a' now changes to 5\n",
      "\t Returning myfun1()\n",
      "Back from myfun1() the value of 'num is' 3\n"
     ]
    }
   ],
   "source": [
    "#passing an immutable type value \n",
    "def myfun1(a):\n",
    "    print(\"\\t Inside myfun1\")\n",
    "    print(\"\\t value recived in 'a'\",a)\n",
    "    a=a+2\n",
    "    print(\"\\t Value of 'a' now changes to\",a)\n",
    "    print(\"\\t Returning myfun1()\")\n",
    "#_main_\n",
    "num=3\n",
    "print(\"Calling myfun1() by passing 'num' with value\",num)\n",
    "myfun1(num)\n",
    "print(\"Back from myfun1() the value of 'num is'\",num)\n",
    "    "
   ]
  },
  {
   "cell_type": "code",
   "execution_count": 7,
   "metadata": {},
   "outputs": [
    {
     "name": "stdout",
     "output_type": "stream",
     "text": [
      "Calling myfun1() by passing 'mylist' with value [1]\n",
      "\t Inside myfun2()\n",
      "\t List recived: [1]\n",
      "\t Value of 'mylist' is now changes to [3]\n",
      "\t Returning myfun2()\n",
      "Back from myfun1() the value of 'list1' is [3]\n"
     ]
    }
   ],
   "source": [
    "#passing an mutable type value \n",
    "def myfun2(mylist):\n",
    "    print(\"\\t Inside myfun2()\")\n",
    "    print(\"\\t List recived:\",mylist)\n",
    "    mylist[0]+=2\n",
    "    print(\"\\t Value of 'mylist' is now changes to\",mylist)\n",
    "    print(\"\\t Returning myfun2()\")\n",
    "    return\n",
    "#_main_\n",
    "list1=[1]\n",
    "print(\"Calling myfun1() by passing 'mylist' with value\",list1)\n",
    "myfun2(list1)\n",
    "print(\"Back from myfun1() the value of 'list1' is\",list1)\n",
    "    "
   ]
  },
  {
   "cell_type": "code",
   "execution_count": 8,
   "metadata": {},
   "outputs": [
    {
     "name": "stdout",
     "output_type": "stream",
     "text": [
      "Enter amount in dollar21\n"
     ]
    },
    {
     "data": {
      "text/plain": [
       "1606.0800000000002"
      ]
     },
     "execution_count": 8,
     "metadata": {},
     "output_type": "execute_result"
    }
   ],
   "source": [
    "#funtion that takes amount in dollars and dollar to rupee conversion price \n",
    "def dollar_to_rupee(a):\n",
    "    a=a*76.48\n",
    "    return a\n",
    "dollar=float(input(\"Enter amount in dollar:-\"))\n",
    "dollar_to_rupee(dollar)\n"
   ]
  },
  {
   "cell_type": "code",
   "execution_count": 1,
   "metadata": {},
   "outputs": [
    {
     "name": "stdout",
     "output_type": "stream",
     "text": [
      "Enter the length or it will take default12\n",
      "default width and height is taken \n",
      "3456.0\n",
      "volume of box is now 3456.0\n",
      "Enter the width or it will take default56\n",
      "default height is taken\n",
      "volume of box is now 8064.0\n",
      "Enter the height or it will take default12\n",
      "volume of box is now 8064.0\n"
     ]
    }
   ],
   "source": [
    "#a funtion to calculate volume of a box with appropriate default values for it.\n",
    "def volume(l=12,w=24,h=12):\n",
    "    \n",
    "    return l*w*h\n",
    "l=float(input(\"Enter the length or it will take default:-\"))\n",
    "print(\"default width and height is taken \")\n",
    "dl=volume(l)\n",
    "print(dl)\n",
    "print(\"volume of box is now:-\",dl)\n",
    "w=float(input(\"Enter the width or it will take default:-\"))\n",
    "print(\"default height is taken\")\n",
    "dlw=volume(l,w)\n",
    "print(\"volume of box is now:-\",dlw)\n",
    "h=float(input(\"Enter the height or it will take default:-\"))\n",
    "dlwh=volume(l,w,h)\n",
    "print(\"volume of box is now:-\",dlwh)\n"
   ]
  },
  {
   "cell_type": "code",
   "execution_count": 2,
   "metadata": {},
   "outputs": [
    {
     "name": "stdout",
     "output_type": "stream",
     "text": [
      "Enter a octal number:-14\n",
      "passed octal number : 14\n",
      "Number in Decimal : 12\n",
      "Number in Binary : 0b1100\n",
      "Number in hexadecimal:  0xc\n"
     ]
    }
   ],
   "source": [
    "def oct2others(n):\n",
    "    print(\"passed octal number :\",n)\n",
    "    numstring=str(n)\n",
    "    decnum=int(numstring,8)\n",
    "    print(\"Number in Decimal :\",decnum)\n",
    "    print(\"Number in Binary :\",bin(decnum))\n",
    "    print(\"Number in hexadecimal: \",hex(decnum))\n",
    "num=int(input(\"Enter a octal number:-\"))\n",
    "oct2others(num)"
   ]
  },
  {
   "cell_type": "code",
   "execution_count": null,
   "metadata": {
    "scrolled": true
   },
   "outputs": [],
   "source": [
    "j=\"100011110\"\n",
    "t=int(j,2)\n",
    "print(t)\n",
    "z=chr(t)\n",
    "print(str(z))"
   ]
  },
  {
   "cell_type": "code",
   "execution_count": 4,
   "metadata": {},
   "outputs": [
    {
     "name": "stdout",
     "output_type": "stream",
     "text": [
      "Enter the first number of AP:-1\n",
      "Enter the length or nth terms of Ap:-9\n",
      "Enter the steps or difference:-1\n",
      "0 ,1 ,2 ,3 ,4 ,5 ,6 ,7 ,8 ,9 ,"
     ]
    }
   ],
   "source": [
    "def series(a,n,d):\n",
    "    for i in range (0,n+1):\n",
    "        terms=a+(i-1)*d\n",
    "        print(terms,\",\",end=\"\")\n",
    "a=int(input(\"Enter the first number of AP:-\"))\n",
    "n=int(input(\"Enter the length or nth terms of Ap:-\"))\n",
    "d=int(input(\"Enter the steps or difference:-\"))\n",
    "series(a,n,d)"
   ]
  },
  {
   "cell_type": "code",
   "execution_count": 1,
   "metadata": {},
   "outputs": [
    {
     "name": "stdout",
     "output_type": "stream",
     "text": [
      "Enter the starting range:-12\n",
      "Enter the ending range:-55\n",
      "15\n",
      "52\n",
      "22\n"
     ]
    }
   ],
   "source": [
    "#funtion that receives two numbers and generates a random number from that range.\n",
    "\n",
    "def randomthree():\n",
    "    import random\n",
    "    num1=int(input(\"Enter the starting range:-\"))\n",
    "    num2=int(input(\"Enter the ending range:-\"))\n",
    "    for i in range (3):\n",
    "        print(random.randint(num1,num2))\n",
    "randomthree()"
   ]
  },
  {
   "cell_type": "code",
   "execution_count": 2,
   "metadata": {},
   "outputs": [
    {
     "name": "stdout",
     "output_type": "stream",
     "text": [
      "enter first string :- madhav\n",
      "enter second string:-vishva\n",
      "True\n"
     ]
    }
   ],
   "source": [
    "#funtion that recevies two string arguments and checks whether they are same -lenght strings \n",
    "def strlen():\n",
    "    a=str(input(\"enter first string :- \"))\n",
    "    b=str(input(\"enter second string :- \"))\n",
    "    if len(a)==len(b):\n",
    "        print(\"True\")\n",
    "    else:\n",
    "        print(\"False\")\n",
    "strlen()"
   ]
  },
  {
   "cell_type": "code",
   "execution_count": 11,
   "metadata": {},
   "outputs": [
    {
     "name": "stdout",
     "output_type": "stream",
     "text": [
      "enter the number whose root you want :- 25\n",
      "Enter the value of root(otherwise enter 0)0\n",
      "5.0\n"
     ]
    }
   ],
   "source": [
    "#nthroot funtion\n",
    "def nthroot(x,n=2):\n",
    "    print(x**(1/n))\n",
    "x=float(input(\"enter the number whose root you want :- \"))\n",
    "n=int(input(\"Enter the value of root(otherwise enter 0)\"))\n",
    "if n==0:\n",
    "    nthroot(x)\n",
    "else:\n",
    "    nthroot(x,n)"
   ]
  },
  {
   "cell_type": "code",
   "execution_count": 1,
   "metadata": {},
   "outputs": [
    {
     "name": "stdout",
     "output_type": "stream",
     "text": [
      "Enter first string :-madhav\n",
      "Enter second string:-vishva\\\n",
      "they are not of same length\n"
     ]
    }
   ],
   "source": [
    "# a funtion that receives two string arguments and checks \n",
    "# whether they are same-length strings (not starting with zero) \n",
    "def lenstring():\n",
    "    str1=str(input(\"Enter first string :-\"))\n",
    "    str2=str(input(\"Enter second string:-\"))\n",
    "    if len(str1)==len(str2):\n",
    "        print(\"they are of same length.\")\n",
    "    else:\n",
    "        print(\"they are not of same length\")\n",
    "lenstring()\n",
    "    \n",
    "\n"
   ]
  },
  {
   "cell_type": "code",
   "execution_count": 2,
   "metadata": {},
   "outputs": [
    {
     "name": "stdout",
     "output_type": "stream",
     "text": [
      "Enter the range of digit:- 3\n",
      "770\n"
     ]
    }
   ],
   "source": [
    "#a funtion that takes a number n and then returns a number having exactly n digits(not starting with 0 )\n",
    "def rannum():\n",
    "    import random\n",
    "    n=int(input(\"Enter the range of digit:- \"))\n",
    "    print(random.randint(10**(n-1),10**(n)))\n",
    "rannum()"
   ]
  },
  {
   "cell_type": "code",
   "execution_count": 3,
   "metadata": {},
   "outputs": [
    {
     "name": "stdout",
     "output_type": "stream",
     "text": [
      "Enter first number :-491\n",
      "Enter second number :-278\n",
      "first number first digit is samller\n"
     ]
    }
   ],
   "source": [
    "#a funtion takes two number and returns the number that has minimum one's digit.\n",
    "def minmum():\n",
    "    num1=int(input(\"Enter first number :-\"))\n",
    "    num2=int(input(\"Enter second number :-\"))\n",
    "    if num1%10>num2%10:\n",
    "        \n",
    "        print(\"second number's first digit is samller\")\n",
    "    else:\n",
    "        print(\"first number's first digit is samller\")\n",
    "minmum()\n",
    "    "
   ]
  },
  {
   "cell_type": "code",
   "execution_count": 14,
   "metadata": {},
   "outputs": [
    {
     "name": "stdout",
     "output_type": "stream",
     "text": [
      "first digit of the series1\n",
      "Enter the last digit of the series 7\n",
      "1 3 5 7 "
     ]
    }
   ],
   "source": [
    "#a program that generates a series using a funtion which takes first and last values of the series \n",
    "def series():\n",
    "    num1=int(input(\"first digit of the series\"))\n",
    "    num2=int (input(\"Enter the last digit of the series \"))\n",
    "    t=int((num2-num1)/3)\n",
    "    if (num2-num1)%3==0:\n",
    "        for i in range (4):\n",
    "            z=int(num1+(i*t))\n",
    "            print(num1+(i*t ),end=\" \")\n",
    "    else:\n",
    "        print(\"Enter a correct order\")\n",
    "\n",
    "series()"
   ]
  },
  {
   "cell_type": "code",
   "execution_count": null,
   "metadata": {},
   "outputs": [],
   "source": []
  },
  {
   "cell_type": "code",
   "execution_count": null,
   "metadata": {},
   "outputs": [],
   "source": []
  },
  {
   "cell_type": "code",
   "execution_count": null,
   "metadata": {},
   "outputs": [],
   "source": []
  },
  {
   "cell_type": "code",
   "execution_count": null,
   "metadata": {},
   "outputs": [],
   "source": []
  },
  {
   "cell_type": "code",
   "execution_count": null,
   "metadata": {},
   "outputs": [],
   "source": []
  },
  {
   "cell_type": "code",
   "execution_count": null,
   "metadata": {},
   "outputs": [],
   "source": []
  },
  {
   "cell_type": "code",
   "execution_count": null,
   "metadata": {},
   "outputs": [],
   "source": []
  },
  {
   "cell_type": "code",
   "execution_count": null,
   "metadata": {},
   "outputs": [],
   "source": []
  },
  {
   "cell_type": "code",
   "execution_count": null,
   "metadata": {},
   "outputs": [],
   "source": []
  },
  {
   "cell_type": "code",
   "execution_count": null,
   "metadata": {},
   "outputs": [],
   "source": []
  },
  {
   "cell_type": "code",
   "execution_count": null,
   "metadata": {},
   "outputs": [],
   "source": []
  },
  {
   "cell_type": "code",
   "execution_count": null,
   "metadata": {},
   "outputs": [],
   "source": []
  },
  {
   "cell_type": "code",
   "execution_count": null,
   "metadata": {},
   "outputs": [],
   "source": []
  },
  {
   "cell_type": "code",
   "execution_count": null,
   "metadata": {},
   "outputs": [],
   "source": []
  },
  {
   "cell_type": "code",
   "execution_count": null,
   "metadata": {},
   "outputs": [],
   "source": []
  },
  {
   "cell_type": "code",
   "execution_count": null,
   "metadata": {},
   "outputs": [],
   "source": []
  },
  {
   "cell_type": "code",
   "execution_count": null,
   "metadata": {},
   "outputs": [],
   "source": []
  },
  {
   "cell_type": "code",
   "execution_count": null,
   "metadata": {},
   "outputs": [],
   "source": []
  },
  {
   "cell_type": "code",
   "execution_count": null,
   "metadata": {},
   "outputs": [],
   "source": []
  },
  {
   "cell_type": "code",
   "execution_count": null,
   "metadata": {},
   "outputs": [],
   "source": []
  },
  {
   "cell_type": "code",
   "execution_count": null,
   "metadata": {},
   "outputs": [],
   "source": []
  },
  {
   "cell_type": "code",
   "execution_count": null,
   "metadata": {},
   "outputs": [],
   "source": []
  },
  {
   "cell_type": "code",
   "execution_count": null,
   "metadata": {},
   "outputs": [],
   "source": []
  },
  {
   "cell_type": "code",
   "execution_count": null,
   "metadata": {},
   "outputs": [],
   "source": []
  }
 ],
 "metadata": {
  "kernelspec": {
   "display_name": "Python 3",
   "language": "python",
   "name": "python3"
  },
  "language_info": {
   "codemirror_mode": {
    "name": "ipython",
    "version": 3
   },
   "file_extension": ".py",
   "mimetype": "text/x-python",
   "name": "python",
   "nbconvert_exporter": "python",
   "pygments_lexer": "ipython3",
   "version": "3.8.10"
  }
 },
 "nbformat": 4,
 "nbformat_minor": 5
}
